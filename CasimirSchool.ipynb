{
 "cells": [
  {
   "cell_type": "markdown",
   "id": "d19be955",
   "metadata": {},
   "source": [
    "# Set up and installation of modules"
   ]
  },
  {
   "cell_type": "code",
   "execution_count": null,
   "id": "ef0939e8",
   "metadata": {},
   "outputs": [],
   "source": [
    "# Uncomment as needed\n",
    "\n",
    "#!pip install scikit-learn\n",
    "#!pip install tensorflow\n",
    "#!pip install gymnasium\n",
    "#!pip install pygame\n",
    "#!pip install stable-baselines3"
   ]
  },
  {
   "cell_type": "markdown",
   "id": "a558a08f",
   "metadata": {},
   "source": [
    "# Principal Component Analysis"
   ]
  },
  {
   "cell_type": "code",
   "execution_count": null,
   "id": "08ffe212",
   "metadata": {},
   "outputs": [],
   "source": [
    "import numpy as np\n",
    "from sklearn.decomposition import PCA\n",
    "import matplotlib.pyplot as plt"
   ]
  },
  {
   "cell_type": "code",
   "execution_count": null,
   "id": "7d309753",
   "metadata": {},
   "outputs": [],
   "source": [
    "ones = np.loadtxt(\"ones.txt\")\n",
    "zeros = np.loadtxt(\"zeros.txt\")\n",
    "\n",
    "time_stamps = ones[:,0]\n",
    "data_ones = ones[:,1:]\n",
    "data_zeros = zeros[:,1:]\n",
    "\n",
    "num_ones_samples = data_ones.shape[1]\n",
    "num_zeros_samples = data_zeros.shape[1]\n",
    "\n",
    "plt.plot(t, data_ones[:,2])\n",
    "plt.plot(t, data_zeros[:,2])\n",
    "plt.xlabel(\"time (s)\")\n",
    "plt.ylabel(\"signal (V)\")"
   ]
  },
  {
   "cell_type": "code",
   "execution_count": null,
   "id": "24cd7510",
   "metadata": {},
   "outputs": [],
   "source": [
    "X = np.hstack([data_ones, data_zeros]).T\n",
    "print(X.shape)\n",
    "\n",
    "colors = ['r'] * num_ones_samples + ['b'] * num_zeros_samples\n",
    "pca = PCA(n_components=2)\n",
    "pca.fit(X)\n",
    "\n",
    "Y = pca.transform(X)\n",
    "print(f\"The first component explains {pca.explained_variance_ratio_[0]*100}% of the variance, and the second explains {pca.explained_variance_ratio_[1]*100}%\")\n",
    "\n",
    "fig, ax = plt.subplots(2)\n",
    "ax[0].scatter(Y[:, 0], Y[:, 1], c=colors, edgecolor=\"w\")\n",
    "ax[0].set_xlabel(\"Principal component 1\")\n",
    "ax[0].set_ylabel(\"Principal component 2\")\n",
    "\n",
    "ax[1].plot(t, pca.components_[0], label=\"principal component 0\")\n",
    "ax[1].plot(t, pca.components_[1], label=\"principal component 1\")\n",
    "ax[1].set_xlabel(\"time (s)\")\n",
    "ax[1].set_ylabel(\"principal component\")\n",
    "ax[1].legend()\n",
    "\n",
    "fig.tight_layout()"
   ]
  },
  {
   "cell_type": "markdown",
   "id": "c5cd698f",
   "metadata": {},
   "source": [
    "# Supervised learning with a feedforward neural network"
   ]
  },
  {
   "cell_type": "code",
   "execution_count": null,
   "id": "2fcdee52",
   "metadata": {},
   "outputs": [],
   "source": [
    "from tensorflow import keras\n",
    "from keras.utils import to_categorical"
   ]
  },
  {
   "cell_type": "markdown",
   "id": "65ed1add",
   "metadata": {},
   "source": [
    "This cell will download the MNIST dataset if it hasn't already been downloaded :)"
   ]
  },
  {
   "cell_type": "code",
   "execution_count": null,
   "id": "e984bdf2",
   "metadata": {
    "scrolled": false
   },
   "outputs": [],
   "source": [
    "(x_train, y_train), (x_test, y_test) = keras.datasets.mnist.load_data()\n",
    "\n",
    "# Show one image\n",
    "plt.imshow(x_train[0], cmap='gray')\n",
    "print(f\"This image is a {y_train[0]}\")\n",
    "\n",
    "# Turn the answers into one-hot vectors\n",
    "y_train = to_categorical(y_train, num_classes=10)\n",
    "print(f\"This corresponds to the one-hot vector: \", y_train[0])\n",
    "\n",
    "# Reshape each image from a 28x28 2D array into a 1D array of size 28*28\n",
    "x_train = np.reshape(x_train, (-1, 28*28))\n",
    "# Normalize the inputs to lie between 0 and 1\n",
    "x_train = x_train/256.0\n",
    "\n",
    "# Reshape the test set\n",
    "x_test = np.reshape(x_test, (-1,28*28))/256\n",
    "y_test = to_categorical(y_test, num_classes=10)"
   ]
  },
  {
   "cell_type": "markdown",
   "id": "be4c0098",
   "metadata": {},
   "source": [
    "### Build a small neural network"
   ]
  },
  {
   "cell_type": "code",
   "execution_count": null,
   "id": "39ad201c",
   "metadata": {},
   "outputs": [],
   "source": [
    "model = keras.Sequential()\n",
    "model.add(keras.layers.Dense(40, input_shape=(28*28,)))\n",
    "model.add(keras.layers.Dense(10))\n",
    "\n",
    "# Finalize the model\n",
    "model.compile(optimizer='adam', loss='mse', metrics=['accuracy'])\n",
    "\n",
    "# Train it!\n",
    "history = model.fit(x_train, y_train, batch_size=32, epochs=10)"
   ]
  },
  {
   "cell_type": "markdown",
   "id": "b60542cd",
   "metadata": {},
   "source": [
    "### Test individual cases"
   ]
  },
  {
   "cell_type": "code",
   "execution_count": null,
   "id": "b73da640",
   "metadata": {},
   "outputs": [],
   "source": [
    "check = np.random.randint(0, len(x_test))\n",
    "\n",
    "plt.imshow(np.reshape(x_test[check], (28,28)))\n",
    "answer = np.argmax(model.predict(np.reshape(x_test[check], (1, 28*28))))\n",
    "print(f\"This is a(n) {answer}\")"
   ]
  },
  {
   "cell_type": "code",
   "execution_count": null,
   "id": "845ec33d",
   "metadata": {},
   "outputs": [],
   "source": [
    "test_loss, test_accuracy = model.evaluate(x_test, y_test, verbose=2)\n",
    "print(test_accuracy)"
   ]
  },
  {
   "cell_type": "markdown",
   "id": "a5a9d3fc",
   "metadata": {},
   "source": [
    "## CNN"
   ]
  },
  {
   "cell_type": "code",
   "execution_count": null,
   "id": "073aecf4",
   "metadata": {},
   "outputs": [],
   "source": [
    "(train_images, train_labels), (test_images, test_labels) = keras.datasets.cifar10.load_data()\n",
    "\n",
    "# Normalize pixel values to be between 0 and 1\n",
    "train_images, test_images = train_images / 255.0, test_images / 255.0"
   ]
  },
  {
   "cell_type": "code",
   "execution_count": null,
   "id": "6abd4b43",
   "metadata": {},
   "outputs": [],
   "source": [
    "class_names = ['airplane', 'automobile', 'bird', 'cat', 'deer',\n",
    "               'dog', 'frog', 'horse', 'ship', 'truck']\n",
    "\n",
    "plt.figure(figsize=(10,10))\n",
    "for i in range(25):\n",
    "    plt.subplot(5,5,i+1)\n",
    "    plt.xticks([])\n",
    "    plt.yticks([])\n",
    "    plt.grid(False)\n",
    "    plt.imshow(train_images[i])\n",
    "    # The CIFAR labels happen to be arrays, \n",
    "    # which is why you need the extra index\n",
    "    plt.xlabel(class_names[train_labels[i][0]])\n",
    "plt.show()"
   ]
  },
  {
   "cell_type": "code",
   "execution_count": null,
   "id": "b4330cd2",
   "metadata": {},
   "outputs": [],
   "source": [
    "model = keras.models.Sequential()\n",
    "model.add(keras.layers.Conv2D(32, (3, 3), activation='relu', input_shape=(32, 32, 3)))\n",
    "model.add(keras.layers.MaxPooling2D((2, 2)))\n",
    "model.add(keras.layers.Flatten())\n",
    "model.add(keras.layers.Dense(64, activation='relu'))\n",
    "model.add(keras.layers.Dense(10))\n",
    "\n",
    "model.compile(optimizer='adam',\n",
    "              loss=keras.losses.SparseCategoricalCrossentropy(from_logits=True),\n",
    "              metrics=['accuracy'])\n",
    "\n",
    "history = model.fit(train_images, train_labels, epochs=10, \n",
    "                    validation_data=(test_images, test_labels))"
   ]
  },
  {
   "cell_type": "code",
   "execution_count": null,
   "id": "a15e92fa",
   "metadata": {},
   "outputs": [],
   "source": [
    "plt.plot(history.history['accuracy'], label='accuracy')\n",
    "plt.plot(history.history['val_accuracy'], label = 'val_accuracy')\n",
    "plt.xlabel('Epoch')\n",
    "plt.ylabel('Accuracy')\n",
    "plt.ylim([0.5, 1])\n",
    "plt.legend(loc='lower right')\n",
    "\n",
    "test_loss, test_acc = model.evaluate(test_images,  test_labels, verbose=2)\n",
    "print(test_acc)"
   ]
  },
  {
   "cell_type": "markdown",
   "id": "fe62881a",
   "metadata": {},
   "source": [
    "# Unsupervised learning with a feedforward neural network"
   ]
  },
  {
   "cell_type": "markdown",
   "id": "18a8b07e",
   "metadata": {},
   "source": [
    "https://keras.io/examples/generative/conditional_gan/"
   ]
  },
  {
   "cell_type": "markdown",
   "id": "6e6d598a",
   "metadata": {},
   "source": [
    "# Reinforcement learning"
   ]
  },
  {
   "cell_type": "code",
   "execution_count": null,
   "id": "856c113b",
   "metadata": {},
   "outputs": [],
   "source": [
    "import gymnasium as gym\n",
    "env = gym.make(\"CartPole-v1\", render_mode=None)\n",
    "\n",
    "observation, info = env.reset()\n",
    "for _ in range(1000):\n",
    "    action = env.action_space.sample()  # agent policy that uses the observation and info\n",
    "    observation, reward, terminated, truncated, info = env.step(action)\n",
    "\n",
    "    if terminated or truncated:\n",
    "        observation, info = env.reset()\n",
    "\n",
    "env.close()"
   ]
  },
  {
   "cell_type": "code",
   "execution_count": null,
   "id": "fe871bb4",
   "metadata": {},
   "outputs": [],
   "source": [
    "from stable_baselines3 import PPO\n",
    "from stable_baselines3.common.env_util import make_vec_env\n",
    "\n",
    "model = PPO(\"MlpPolicy\", env, verbose=1)\n",
    "model.learn(total_timesteps=25000)"
   ]
  },
  {
   "cell_type": "code",
   "execution_count": null,
   "id": "8d4866f5",
   "metadata": {},
   "outputs": [],
   "source": [
    "env = gym.make(\"CartPole-v1\", render_mode=\"human\")\n",
    "observation, info = env.reset()\n",
    "while True:\n",
    "    action, _states = model.predict(observation)\n",
    "    observation, reward, terminated, truncated, info = env.step(action)"
   ]
  },
  {
   "cell_type": "code",
   "execution_count": null,
   "id": "03599809",
   "metadata": {},
   "outputs": [],
   "source": []
  }
 ],
 "metadata": {
  "kernelspec": {
   "display_name": "Python 3 (ipykernel)",
   "language": "python",
   "name": "python3"
  },
  "language_info": {
   "codemirror_mode": {
    "name": "ipython",
    "version": 3
   },
   "file_extension": ".py",
   "mimetype": "text/x-python",
   "name": "python",
   "nbconvert_exporter": "python",
   "pygments_lexer": "ipython3",
   "version": "3.11.4"
  }
 },
 "nbformat": 4,
 "nbformat_minor": 5
}
